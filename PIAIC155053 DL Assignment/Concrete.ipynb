{
 "cells": [
  {
   "cell_type": "markdown",
   "metadata": {
    "id": "CgPkafcBClHA"
   },
   "source": [
    "#Importing Libraries"
   ]
  },
  {
   "cell_type": "code",
   "execution_count": 36,
   "metadata": {
    "id": "NipDpuvkCmi6"
   },
   "outputs": [],
   "source": [
    "import pandas as pd\n",
    "import numpy as np\n",
    "import matplotlib.pyplot as plt"
   ]
  },
  {
   "cell_type": "markdown",
   "metadata": {
    "id": "UxC9ci-KDQoW"
   },
   "source": [
    "#Uploading Datasets"
   ]
  },
  {
   "cell_type": "code",
   "execution_count": 37,
   "metadata": {
    "id": "B_vpinNiCxTc"
   },
   "outputs": [],
   "source": [
    "data=pd.read_csv(\"compresive_strength_concrete.csv\")"
   ]
  },
  {
   "cell_type": "code",
   "execution_count": 38,
   "metadata": {
    "colab": {
     "base_uri": "https://localhost:8080/"
    },
    "id": "VcJwnsAHIgRW",
    "outputId": "ae5e6e22-0e87-46ca-b520-c9336626e6df"
   },
   "outputs": [
    {
     "data": {
      "text/plain": [
       "(1030, 9)"
      ]
     },
     "execution_count": 38,
     "metadata": {},
     "output_type": "execute_result"
    }
   ],
   "source": [
    "data.shape"
   ]
  },
  {
   "cell_type": "code",
   "execution_count": 39,
   "metadata": {
    "colab": {
     "base_uri": "https://localhost:8080/",
     "height": 326
    },
    "id": "U0yFP1M6Ikh-",
    "outputId": "769d5d3e-3100-4b3a-b009-cc08487e88a3"
   },
   "outputs": [
    {
     "data": {
      "text/html": [
       "<div>\n",
       "<style scoped>\n",
       "    .dataframe tbody tr th:only-of-type {\n",
       "        vertical-align: middle;\n",
       "    }\n",
       "\n",
       "    .dataframe tbody tr th {\n",
       "        vertical-align: top;\n",
       "    }\n",
       "\n",
       "    .dataframe thead th {\n",
       "        text-align: right;\n",
       "    }\n",
       "</style>\n",
       "<table border=\"1\" class=\"dataframe\">\n",
       "  <thead>\n",
       "    <tr style=\"text-align: right;\">\n",
       "      <th></th>\n",
       "      <th>Cement (component 1)(kg in a m^3 mixture)</th>\n",
       "      <th>Blast Furnace Slag (component 2)(kg in a m^3 mixture)</th>\n",
       "      <th>Fly Ash (component 3)(kg in a m^3 mixture)</th>\n",
       "      <th>Water  (component 4)(kg in a m^3 mixture)</th>\n",
       "      <th>Superplasticizer (component 5)(kg in a m^3 mixture)</th>\n",
       "      <th>Coarse Aggregate  (component 6)(kg in a m^3 mixture)</th>\n",
       "      <th>Fine Aggregate (component 7)(kg in a m^3 mixture)</th>\n",
       "      <th>Age (day)</th>\n",
       "      <th>Concrete compressive strength(MPa, megapascals)</th>\n",
       "    </tr>\n",
       "  </thead>\n",
       "  <tbody>\n",
       "    <tr>\n",
       "      <th>0</th>\n",
       "      <td>540.0</td>\n",
       "      <td>0.0</td>\n",
       "      <td>0.0</td>\n",
       "      <td>162.0</td>\n",
       "      <td>2.5</td>\n",
       "      <td>1040.0</td>\n",
       "      <td>676.0</td>\n",
       "      <td>28</td>\n",
       "      <td>79.99</td>\n",
       "    </tr>\n",
       "    <tr>\n",
       "      <th>1</th>\n",
       "      <td>540.0</td>\n",
       "      <td>0.0</td>\n",
       "      <td>0.0</td>\n",
       "      <td>162.0</td>\n",
       "      <td>2.5</td>\n",
       "      <td>1055.0</td>\n",
       "      <td>676.0</td>\n",
       "      <td>28</td>\n",
       "      <td>61.89</td>\n",
       "    </tr>\n",
       "    <tr>\n",
       "      <th>2</th>\n",
       "      <td>332.5</td>\n",
       "      <td>142.5</td>\n",
       "      <td>0.0</td>\n",
       "      <td>228.0</td>\n",
       "      <td>0.0</td>\n",
       "      <td>932.0</td>\n",
       "      <td>594.0</td>\n",
       "      <td>270</td>\n",
       "      <td>40.27</td>\n",
       "    </tr>\n",
       "    <tr>\n",
       "      <th>3</th>\n",
       "      <td>332.5</td>\n",
       "      <td>142.5</td>\n",
       "      <td>0.0</td>\n",
       "      <td>228.0</td>\n",
       "      <td>0.0</td>\n",
       "      <td>932.0</td>\n",
       "      <td>594.0</td>\n",
       "      <td>365</td>\n",
       "      <td>41.05</td>\n",
       "    </tr>\n",
       "    <tr>\n",
       "      <th>4</th>\n",
       "      <td>198.6</td>\n",
       "      <td>132.4</td>\n",
       "      <td>0.0</td>\n",
       "      <td>192.0</td>\n",
       "      <td>0.0</td>\n",
       "      <td>978.4</td>\n",
       "      <td>825.5</td>\n",
       "      <td>360</td>\n",
       "      <td>44.30</td>\n",
       "    </tr>\n",
       "  </tbody>\n",
       "</table>\n",
       "</div>"
      ],
      "text/plain": [
       "   Cement (component 1)(kg in a m^3 mixture)  \\\n",
       "0                                      540.0   \n",
       "1                                      540.0   \n",
       "2                                      332.5   \n",
       "3                                      332.5   \n",
       "4                                      198.6   \n",
       "\n",
       "   Blast Furnace Slag (component 2)(kg in a m^3 mixture)  \\\n",
       "0                                                0.0       \n",
       "1                                                0.0       \n",
       "2                                              142.5       \n",
       "3                                              142.5       \n",
       "4                                              132.4       \n",
       "\n",
       "   Fly Ash (component 3)(kg in a m^3 mixture)  \\\n",
       "0                                         0.0   \n",
       "1                                         0.0   \n",
       "2                                         0.0   \n",
       "3                                         0.0   \n",
       "4                                         0.0   \n",
       "\n",
       "   Water  (component 4)(kg in a m^3 mixture)  \\\n",
       "0                                      162.0   \n",
       "1                                      162.0   \n",
       "2                                      228.0   \n",
       "3                                      228.0   \n",
       "4                                      192.0   \n",
       "\n",
       "   Superplasticizer (component 5)(kg in a m^3 mixture)  \\\n",
       "0                                                2.5     \n",
       "1                                                2.5     \n",
       "2                                                0.0     \n",
       "3                                                0.0     \n",
       "4                                                0.0     \n",
       "\n",
       "   Coarse Aggregate  (component 6)(kg in a m^3 mixture)  \\\n",
       "0                                             1040.0      \n",
       "1                                             1055.0      \n",
       "2                                              932.0      \n",
       "3                                              932.0      \n",
       "4                                              978.4      \n",
       "\n",
       "   Fine Aggregate (component 7)(kg in a m^3 mixture)  Age (day)  \\\n",
       "0                                              676.0         28   \n",
       "1                                              676.0         28   \n",
       "2                                              594.0        270   \n",
       "3                                              594.0        365   \n",
       "4                                              825.5        360   \n",
       "\n",
       "   Concrete compressive strength(MPa, megapascals)   \n",
       "0                                             79.99  \n",
       "1                                             61.89  \n",
       "2                                             40.27  \n",
       "3                                             41.05  \n",
       "4                                             44.30  "
      ]
     },
     "execution_count": 39,
     "metadata": {},
     "output_type": "execute_result"
    }
   ],
   "source": [
    "data.head()"
   ]
  },
  {
   "cell_type": "code",
   "execution_count": 40,
   "metadata": {},
   "outputs": [
    {
     "data": {
      "text/plain": [
       "Cement (component 1)(kg in a m^3 mixture)                0\n",
       "Blast Furnace Slag (component 2)(kg in a m^3 mixture)    0\n",
       "Fly Ash (component 3)(kg in a m^3 mixture)               0\n",
       "Water  (component 4)(kg in a m^3 mixture)                0\n",
       "Superplasticizer (component 5)(kg in a m^3 mixture)      0\n",
       "Coarse Aggregate  (component 6)(kg in a m^3 mixture)     0\n",
       "Fine Aggregate (component 7)(kg in a m^3 mixture)        0\n",
       "Age (day)                                                0\n",
       "Concrete compressive strength(MPa, megapascals)          0\n",
       "dtype: int64"
      ]
     },
     "execution_count": 40,
     "metadata": {},
     "output_type": "execute_result"
    }
   ],
   "source": [
    "data.isnull().sum()"
   ]
  },
  {
   "cell_type": "code",
   "execution_count": 41,
   "metadata": {},
   "outputs": [
    {
     "data": {
      "text/plain": [
       "(array([], dtype=int64), array([], dtype=int64))"
      ]
     },
     "execution_count": 41,
     "metadata": {},
     "output_type": "execute_result"
    }
   ],
   "source": [
    "np.where(data.applymap(lambda x: x == ''))"
   ]
  },
  {
   "cell_type": "code",
   "execution_count": 42,
   "metadata": {},
   "outputs": [],
   "source": [
    "X_train = data.sample(frac = 0.7, random_state = 123)\n",
    "X_test = data.drop(X_train.index)"
   ]
  },
  {
   "cell_type": "code",
   "execution_count": 43,
   "metadata": {},
   "outputs": [
    {
     "data": {
      "text/html": [
       "<div>\n",
       "<style scoped>\n",
       "    .dataframe tbody tr th:only-of-type {\n",
       "        vertical-align: middle;\n",
       "    }\n",
       "\n",
       "    .dataframe tbody tr th {\n",
       "        vertical-align: top;\n",
       "    }\n",
       "\n",
       "    .dataframe thead th {\n",
       "        text-align: right;\n",
       "    }\n",
       "</style>\n",
       "<table border=\"1\" class=\"dataframe\">\n",
       "  <thead>\n",
       "    <tr style=\"text-align: right;\">\n",
       "      <th></th>\n",
       "      <th>Cement (component 1)(kg in a m^3 mixture)</th>\n",
       "      <th>Blast Furnace Slag (component 2)(kg in a m^3 mixture)</th>\n",
       "      <th>Fly Ash (component 3)(kg in a m^3 mixture)</th>\n",
       "      <th>Water  (component 4)(kg in a m^3 mixture)</th>\n",
       "      <th>Superplasticizer (component 5)(kg in a m^3 mixture)</th>\n",
       "      <th>Coarse Aggregate  (component 6)(kg in a m^3 mixture)</th>\n",
       "      <th>Fine Aggregate (component 7)(kg in a m^3 mixture)</th>\n",
       "      <th>Age (day)</th>\n",
       "      <th>Concrete compressive strength(MPa, megapascals)</th>\n",
       "    </tr>\n",
       "  </thead>\n",
       "  <tbody>\n",
       "    <tr>\n",
       "      <th>134</th>\n",
       "      <td>362.6</td>\n",
       "      <td>189.0</td>\n",
       "      <td>0.0</td>\n",
       "      <td>164.9</td>\n",
       "      <td>11.6</td>\n",
       "      <td>944.7</td>\n",
       "      <td>755.8</td>\n",
       "      <td>28</td>\n",
       "      <td>71.30</td>\n",
       "    </tr>\n",
       "    <tr>\n",
       "      <th>13</th>\n",
       "      <td>190.0</td>\n",
       "      <td>190.0</td>\n",
       "      <td>0.0</td>\n",
       "      <td>228.0</td>\n",
       "      <td>0.0</td>\n",
       "      <td>932.0</td>\n",
       "      <td>670.0</td>\n",
       "      <td>90</td>\n",
       "      <td>42.33</td>\n",
       "    </tr>\n",
       "    <tr>\n",
       "      <th>996</th>\n",
       "      <td>152.6</td>\n",
       "      <td>238.7</td>\n",
       "      <td>0.0</td>\n",
       "      <td>200.0</td>\n",
       "      <td>6.3</td>\n",
       "      <td>1001.8</td>\n",
       "      <td>683.9</td>\n",
       "      <td>28</td>\n",
       "      <td>26.86</td>\n",
       "    </tr>\n",
       "    <tr>\n",
       "      <th>770</th>\n",
       "      <td>349.0</td>\n",
       "      <td>0.0</td>\n",
       "      <td>0.0</td>\n",
       "      <td>192.0</td>\n",
       "      <td>0.0</td>\n",
       "      <td>1047.0</td>\n",
       "      <td>806.0</td>\n",
       "      <td>3</td>\n",
       "      <td>14.99</td>\n",
       "    </tr>\n",
       "    <tr>\n",
       "      <th>937</th>\n",
       "      <td>313.3</td>\n",
       "      <td>0.0</td>\n",
       "      <td>113.0</td>\n",
       "      <td>178.5</td>\n",
       "      <td>8.0</td>\n",
       "      <td>1001.9</td>\n",
       "      <td>688.7</td>\n",
       "      <td>28</td>\n",
       "      <td>36.80</td>\n",
       "    </tr>\n",
       "  </tbody>\n",
       "</table>\n",
       "</div>"
      ],
      "text/plain": [
       "     Cement (component 1)(kg in a m^3 mixture)  \\\n",
       "134                                      362.6   \n",
       "13                                       190.0   \n",
       "996                                      152.6   \n",
       "770                                      349.0   \n",
       "937                                      313.3   \n",
       "\n",
       "     Blast Furnace Slag (component 2)(kg in a m^3 mixture)  \\\n",
       "134                                              189.0       \n",
       "13                                               190.0       \n",
       "996                                              238.7       \n",
       "770                                                0.0       \n",
       "937                                                0.0       \n",
       "\n",
       "     Fly Ash (component 3)(kg in a m^3 mixture)  \\\n",
       "134                                         0.0   \n",
       "13                                          0.0   \n",
       "996                                         0.0   \n",
       "770                                         0.0   \n",
       "937                                       113.0   \n",
       "\n",
       "     Water  (component 4)(kg in a m^3 mixture)  \\\n",
       "134                                      164.9   \n",
       "13                                       228.0   \n",
       "996                                      200.0   \n",
       "770                                      192.0   \n",
       "937                                      178.5   \n",
       "\n",
       "     Superplasticizer (component 5)(kg in a m^3 mixture)  \\\n",
       "134                                               11.6     \n",
       "13                                                 0.0     \n",
       "996                                                6.3     \n",
       "770                                                0.0     \n",
       "937                                                8.0     \n",
       "\n",
       "     Coarse Aggregate  (component 6)(kg in a m^3 mixture)  \\\n",
       "134                                              944.7      \n",
       "13                                               932.0      \n",
       "996                                             1001.8      \n",
       "770                                             1047.0      \n",
       "937                                             1001.9      \n",
       "\n",
       "     Fine Aggregate (component 7)(kg in a m^3 mixture)  Age (day)  \\\n",
       "134                                              755.8         28   \n",
       "13                                               670.0         90   \n",
       "996                                              683.9         28   \n",
       "770                                              806.0          3   \n",
       "937                                              688.7         28   \n",
       "\n",
       "     Concrete compressive strength(MPa, megapascals)   \n",
       "134                                             71.30  \n",
       "13                                              42.33  \n",
       "996                                             26.86  \n",
       "770                                             14.99  \n",
       "937                                             36.80  "
      ]
     },
     "execution_count": 43,
     "metadata": {},
     "output_type": "execute_result"
    }
   ],
   "source": [
    "X_train.head()"
   ]
  },
  {
   "cell_type": "markdown",
   "metadata": {
    "id": "CcvbbUpmJFCi"
   },
   "source": [
    "#Assigning features and target variable"
   ]
  },
  {
   "cell_type": "code",
   "execution_count": 44,
   "metadata": {
    "id": "OTv_VabYIj83"
   },
   "outputs": [],
   "source": [
    "Y_train = X_train.iloc[:,-1]\n",
    "X_train = X_train.iloc[:,0:-1]\n",
    "Y_test = X_test.iloc[:,-1]\n",
    "X_test = X_test.iloc[:,0:-1]"
   ]
  },
  {
   "cell_type": "code",
   "execution_count": 45,
   "metadata": {
    "id": "KHF-Yeo2JTyg"
   },
   "outputs": [],
   "source": [
    "X_mean = X_train.mean()\n",
    "X_train -= X_mean\n",
    "X_std = X_train.std()\n",
    "X_train /= X_std\n",
    "X_test -= X_mean\n",
    "X_test /= X_std"
   ]
  },
  {
   "cell_type": "code",
   "execution_count": 46,
   "metadata": {},
   "outputs": [],
   "source": [
    "Y_mean = Y_train.mean()\n",
    "Y_train -= Y_mean\n",
    "Y_std = Y_train.std()\n",
    "Y_train /= Y_std\n",
    "Y_test -= Y_mean\n",
    "Y_test /= Y_std"
   ]
  },
  {
   "cell_type": "code",
   "execution_count": 47,
   "metadata": {},
   "outputs": [
    {
     "data": {
      "text/plain": [
       "Cement (component 1)(kg in a m^3 mixture)                float64\n",
       "Blast Furnace Slag (component 2)(kg in a m^3 mixture)    float64\n",
       "Fly Ash (component 3)(kg in a m^3 mixture)               float64\n",
       "Water  (component 4)(kg in a m^3 mixture)                float64\n",
       "Superplasticizer (component 5)(kg in a m^3 mixture)      float64\n",
       "Coarse Aggregate  (component 6)(kg in a m^3 mixture)     float64\n",
       "Fine Aggregate (component 7)(kg in a m^3 mixture)        float64\n",
       "Age (day)                                                float64\n",
       "dtype: object"
      ]
     },
     "execution_count": 47,
     "metadata": {},
     "output_type": "execute_result"
    }
   ],
   "source": [
    "X_train.dtypes"
   ]
  },
  {
   "cell_type": "code",
   "execution_count": 48,
   "metadata": {},
   "outputs": [],
   "source": [
    "X_train = X_train.to_numpy()\n",
    "Y_train = Y_train.to_numpy()\n",
    "X_test = X_test.to_numpy()\n",
    "Y_test = Y_test.to_numpy()\n"
   ]
  },
  {
   "cell_type": "markdown",
   "metadata": {
    "id": "Lj_iCk5vL5E7"
   },
   "source": [
    "#Training and testing data splittion"
   ]
  },
  {
   "cell_type": "markdown",
   "metadata": {
    "id": "_LMH3tMeMbXN"
   },
   "source": [
    "#Model selection"
   ]
  },
  {
   "cell_type": "code",
   "execution_count": 49,
   "metadata": {
    "id": "N71E3GgCMTCO",
    "scrolled": true
   },
   "outputs": [],
   "source": [
    "from tensorflow.keras import layers as L\n",
    "from tensorflow.keras import models as M"
   ]
  },
  {
   "cell_type": "code",
   "execution_count": 50,
   "metadata": {
    "id": "PZIj7pgIMhcg"
   },
   "outputs": [],
   "source": [
    "network = M.Sequential()"
   ]
  },
  {
   "cell_type": "code",
   "execution_count": 51,
   "metadata": {
    "id": "jcIypzdFMrDX"
   },
   "outputs": [],
   "source": [
    "network.add(L.Dense(128,activation=\"relu\",input_shape=(X_train.shape[1],)))"
   ]
  },
  {
   "cell_type": "code",
   "execution_count": 52,
   "metadata": {
    "id": "gl8qko4FM3j4"
   },
   "outputs": [],
   "source": [
    "network.add(L.Dense(64,activation=\"relu\"))"
   ]
  },
  {
   "cell_type": "code",
   "execution_count": 53,
   "metadata": {
    "id": "LQ2VEXd9M8Uw"
   },
   "outputs": [],
   "source": [
    "network.add(L.Dense(32,activation=\"relu\"))"
   ]
  },
  {
   "cell_type": "code",
   "execution_count": 54,
   "metadata": {
    "id": "yWUmN_KvNCno"
   },
   "outputs": [],
   "source": [
    "network.add(L.Dense(1))"
   ]
  },
  {
   "cell_type": "code",
   "execution_count": 55,
   "metadata": {
    "id": "zSyeoyk0Nsa2"
   },
   "outputs": [],
   "source": [
    "network.compile(optimizer=\"rmsprop\",loss=[\"mse\"],metrics=[\"mae\"])"
   ]
  },
  {
   "cell_type": "code",
   "execution_count": 56,
   "metadata": {
    "colab": {
     "base_uri": "https://localhost:8080/"
    },
    "id": "E8cCCFviOKuF",
    "outputId": "c6eebdfa-f576-4106-ec4b-38cba2572df0"
   },
   "outputs": [
    {
     "name": "stdout",
     "output_type": "stream",
     "text": [
      "Epoch 1/200\n",
      "32/32 [==============================] - 1s 7ms/step - loss: 0.9441 - mae: 0.7750 - val_loss: 0.4569 - val_mae: 0.5458\n",
      "Epoch 2/200\n",
      "32/32 [==============================] - 0s 2ms/step - loss: 0.3546 - mae: 0.4702 - val_loss: 0.3414 - val_mae: 0.4602\n",
      "Epoch 3/200\n",
      "32/32 [==============================] - 0s 2ms/step - loss: 0.2604 - mae: 0.4082 - val_loss: 0.3166 - val_mae: 0.4344\n",
      "Epoch 4/200\n",
      "32/32 [==============================] - 0s 2ms/step - loss: 0.2055 - mae: 0.3526 - val_loss: 0.2704 - val_mae: 0.3889\n",
      "Epoch 5/200\n",
      "32/32 [==============================] - 0s 2ms/step - loss: 0.1966 - mae: 0.3390 - val_loss: 0.2684 - val_mae: 0.3978\n",
      "Epoch 6/200\n",
      "32/32 [==============================] - 0s 2ms/step - loss: 0.1535 - mae: 0.3039 - val_loss: 0.3095 - val_mae: 0.4153\n",
      "Epoch 7/200\n",
      "32/32 [==============================] - 0s 2ms/step - loss: 0.1333 - mae: 0.2744 - val_loss: 0.2251 - val_mae: 0.3666\n",
      "Epoch 8/200\n",
      "32/32 [==============================] - 0s 2ms/step - loss: 0.1260 - mae: 0.2748 - val_loss: 0.2155 - val_mae: 0.3549\n",
      "Epoch 9/200\n",
      "32/32 [==============================] - 0s 2ms/step - loss: 0.1202 - mae: 0.2631 - val_loss: 0.2186 - val_mae: 0.3529\n",
      "Epoch 10/200\n",
      "32/32 [==============================] - 0s 2ms/step - loss: 0.1185 - mae: 0.2639 - val_loss: 0.1875 - val_mae: 0.3305\n",
      "Epoch 11/200\n",
      "32/32 [==============================] - 0s 2ms/step - loss: 0.1055 - mae: 0.2560 - val_loss: 0.1776 - val_mae: 0.3233\n",
      "Epoch 12/200\n",
      "32/32 [==============================] - 0s 2ms/step - loss: 0.0942 - mae: 0.2350 - val_loss: 0.1795 - val_mae: 0.3167\n",
      "Epoch 13/200\n",
      "32/32 [==============================] - 0s 2ms/step - loss: 0.0876 - mae: 0.2307 - val_loss: 0.1687 - val_mae: 0.3113\n",
      "Epoch 14/200\n",
      "32/32 [==============================] - 0s 2ms/step - loss: 0.0797 - mae: 0.2181 - val_loss: 0.1849 - val_mae: 0.3102\n",
      "Epoch 15/200\n",
      "32/32 [==============================] - 0s 2ms/step - loss: 0.0821 - mae: 0.2203 - val_loss: 0.1871 - val_mae: 0.3301\n",
      "Epoch 16/200\n",
      "32/32 [==============================] - 0s 2ms/step - loss: 0.0764 - mae: 0.2150 - val_loss: 0.1646 - val_mae: 0.3122\n",
      "Epoch 17/200\n",
      "32/32 [==============================] - 0s 2ms/step - loss: 0.0787 - mae: 0.2163 - val_loss: 0.1672 - val_mae: 0.3066\n",
      "Epoch 18/200\n",
      "32/32 [==============================] - 0s 2ms/step - loss: 0.0802 - mae: 0.2156 - val_loss: 0.2058 - val_mae: 0.3316\n",
      "Epoch 19/200\n",
      "32/32 [==============================] - 0s 2ms/step - loss: 0.0900 - mae: 0.2267 - val_loss: 0.1700 - val_mae: 0.3152\n",
      "Epoch 20/200\n",
      "32/32 [==============================] - 0s 2ms/step - loss: 0.0795 - mae: 0.2185 - val_loss: 0.1527 - val_mae: 0.2965\n",
      "Epoch 21/200\n",
      "32/32 [==============================] - 0s 3ms/step - loss: 0.0620 - mae: 0.1937 - val_loss: 0.1557 - val_mae: 0.2928\n",
      "Epoch 22/200\n",
      "32/32 [==============================] - 0s 3ms/step - loss: 0.0653 - mae: 0.1923 - val_loss: 0.1662 - val_mae: 0.3073\n",
      "Epoch 23/200\n",
      "32/32 [==============================] - 0s 2ms/step - loss: 0.0633 - mae: 0.1932 - val_loss: 0.1766 - val_mae: 0.3335\n",
      "Epoch 24/200\n",
      "32/32 [==============================] - 0s 2ms/step - loss: 0.0662 - mae: 0.2017 - val_loss: 0.1555 - val_mae: 0.2992\n",
      "Epoch 25/200\n",
      "32/32 [==============================] - 0s 3ms/step - loss: 0.0563 - mae: 0.1845 - val_loss: 0.1555 - val_mae: 0.3018\n",
      "Epoch 26/200\n",
      "32/32 [==============================] - 0s 2ms/step - loss: 0.0604 - mae: 0.1933 - val_loss: 0.1477 - val_mae: 0.2906\n",
      "Epoch 27/200\n",
      "32/32 [==============================] - 0s 2ms/step - loss: 0.0475 - mae: 0.1670 - val_loss: 0.1531 - val_mae: 0.2910\n",
      "Epoch 28/200\n",
      "32/32 [==============================] - 0s 2ms/step - loss: 0.0523 - mae: 0.1736 - val_loss: 0.1371 - val_mae: 0.2697\n",
      "Epoch 29/200\n",
      "32/32 [==============================] - 0s 2ms/step - loss: 0.0510 - mae: 0.1668 - val_loss: 0.1517 - val_mae: 0.2899\n",
      "Epoch 30/200\n",
      "32/32 [==============================] - 0s 2ms/step - loss: 0.0553 - mae: 0.1816 - val_loss: 0.1686 - val_mae: 0.3063\n",
      "Epoch 31/200\n",
      "32/32 [==============================] - 0s 2ms/step - loss: 0.0657 - mae: 0.1949 - val_loss: 0.1819 - val_mae: 0.3255\n",
      "Epoch 32/200\n",
      "32/32 [==============================] - 0s 2ms/step - loss: 0.0591 - mae: 0.1823 - val_loss: 0.1406 - val_mae: 0.2794\n",
      "Epoch 33/200\n",
      "32/32 [==============================] - 0s 2ms/step - loss: 0.0431 - mae: 0.1609 - val_loss: 0.1465 - val_mae: 0.2883\n",
      "Epoch 34/200\n",
      "32/32 [==============================] - 0s 2ms/step - loss: 0.0566 - mae: 0.1815 - val_loss: 0.1313 - val_mae: 0.2681\n",
      "Epoch 35/200\n",
      "32/32 [==============================] - 0s 2ms/step - loss: 0.0430 - mae: 0.1572 - val_loss: 0.1273 - val_mae: 0.2616\n",
      "Epoch 36/200\n",
      "32/32 [==============================] - 0s 2ms/step - loss: 0.0451 - mae: 0.1612 - val_loss: 0.1474 - val_mae: 0.2791\n",
      "Epoch 37/200\n",
      "32/32 [==============================] - 0s 2ms/step - loss: 0.0386 - mae: 0.1473 - val_loss: 0.1463 - val_mae: 0.2836\n",
      "Epoch 38/200\n",
      "32/32 [==============================] - 0s 2ms/step - loss: 0.0435 - mae: 0.1489 - val_loss: 0.1240 - val_mae: 0.2637\n",
      "Epoch 39/200\n",
      "32/32 [==============================] - 0s 2ms/step - loss: 0.0459 - mae: 0.1589 - val_loss: 0.1617 - val_mae: 0.3099\n",
      "Epoch 40/200\n",
      "32/32 [==============================] - 0s 3ms/step - loss: 0.0510 - mae: 0.1678 - val_loss: 0.1637 - val_mae: 0.3062\n",
      "Epoch 41/200\n",
      "32/32 [==============================] - 0s 2ms/step - loss: 0.0491 - mae: 0.1639 - val_loss: 0.1260 - val_mae: 0.2585\n",
      "Epoch 42/200\n",
      "32/32 [==============================] - 0s 2ms/step - loss: 0.0391 - mae: 0.1465 - val_loss: 0.2089 - val_mae: 0.3521\n",
      "Epoch 43/200\n",
      "32/32 [==============================] - 0s 2ms/step - loss: 0.0452 - mae: 0.1528 - val_loss: 0.1439 - val_mae: 0.2815\n",
      "Epoch 44/200\n",
      "32/32 [==============================] - 0s 2ms/step - loss: 0.0379 - mae: 0.1470 - val_loss: 0.1210 - val_mae: 0.2511\n",
      "Epoch 45/200\n",
      "32/32 [==============================] - 0s 2ms/step - loss: 0.0376 - mae: 0.1485 - val_loss: 0.1376 - val_mae: 0.2736\n",
      "Epoch 46/200\n",
      "32/32 [==============================] - 0s 2ms/step - loss: 0.0392 - mae: 0.1421 - val_loss: 0.1687 - val_mae: 0.3085\n",
      "Epoch 47/200\n",
      "32/32 [==============================] - 0s 2ms/step - loss: 0.0495 - mae: 0.1644 - val_loss: 0.1339 - val_mae: 0.2806\n",
      "Epoch 48/200\n",
      "32/32 [==============================] - 0s 2ms/step - loss: 0.0361 - mae: 0.1441 - val_loss: 0.1384 - val_mae: 0.2686\n",
      "Epoch 49/200\n",
      "32/32 [==============================] - 0s 2ms/step - loss: 0.0412 - mae: 0.1473 - val_loss: 0.1166 - val_mae: 0.2573\n",
      "Epoch 50/200\n",
      "32/32 [==============================] - 0s 2ms/step - loss: 0.0482 - mae: 0.1634 - val_loss: 0.1299 - val_mae: 0.2584\n",
      "Epoch 51/200\n",
      "32/32 [==============================] - 0s 2ms/step - loss: 0.0325 - mae: 0.1301 - val_loss: 0.1419 - val_mae: 0.2722\n",
      "Epoch 52/200\n",
      "32/32 [==============================] - 0s 2ms/step - loss: 0.0301 - mae: 0.1282 - val_loss: 0.1302 - val_mae: 0.2570\n",
      "Epoch 53/200\n",
      "32/32 [==============================] - 0s 3ms/step - loss: 0.0382 - mae: 0.1436 - val_loss: 0.1355 - val_mae: 0.2790\n",
      "Epoch 54/200\n",
      "32/32 [==============================] - 0s 2ms/step - loss: 0.0388 - mae: 0.1461 - val_loss: 0.1768 - val_mae: 0.3138\n",
      "Epoch 55/200\n",
      "32/32 [==============================] - 0s 2ms/step - loss: 0.0601 - mae: 0.1697 - val_loss: 0.1466 - val_mae: 0.2912\n",
      "Epoch 56/200\n",
      "32/32 [==============================] - 0s 2ms/step - loss: 0.0337 - mae: 0.1320 - val_loss: 0.1390 - val_mae: 0.2676\n",
      "Epoch 57/200\n",
      "32/32 [==============================] - 0s 2ms/step - loss: 0.0319 - mae: 0.1284 - val_loss: 0.1232 - val_mae: 0.2537\n",
      "Epoch 58/200\n",
      "32/32 [==============================] - 0s 2ms/step - loss: 0.0315 - mae: 0.1325 - val_loss: 0.1402 - val_mae: 0.2702\n",
      "Epoch 59/200\n",
      "32/32 [==============================] - 0s 2ms/step - loss: 0.0341 - mae: 0.1315 - val_loss: 0.1363 - val_mae: 0.2658\n",
      "Epoch 60/200\n",
      "32/32 [==============================] - 0s 2ms/step - loss: 0.0380 - mae: 0.1415 - val_loss: 0.1423 - val_mae: 0.2803\n",
      "Epoch 61/200\n",
      "32/32 [==============================] - 0s 2ms/step - loss: 0.0379 - mae: 0.1346 - val_loss: 0.1252 - val_mae: 0.2594\n",
      "Epoch 62/200\n",
      "32/32 [==============================] - 0s 2ms/step - loss: 0.0348 - mae: 0.1349 - val_loss: 0.1236 - val_mae: 0.2517\n",
      "Epoch 63/200\n"
     ]
    },
    {
     "name": "stdout",
     "output_type": "stream",
     "text": [
      "32/32 [==============================] - 0s 2ms/step - loss: 0.0322 - mae: 0.1352 - val_loss: 0.1235 - val_mae: 0.2547\n",
      "Epoch 64/200\n",
      "32/32 [==============================] - 0s 2ms/step - loss: 0.0384 - mae: 0.1422 - val_loss: 0.1272 - val_mae: 0.2570\n",
      "Epoch 65/200\n",
      "32/32 [==============================] - 0s 2ms/step - loss: 0.0344 - mae: 0.1294 - val_loss: 0.1330 - val_mae: 0.2694\n",
      "Epoch 66/200\n",
      "32/32 [==============================] - 0s 2ms/step - loss: 0.0335 - mae: 0.1368 - val_loss: 0.1239 - val_mae: 0.2415\n",
      "Epoch 67/200\n",
      "32/32 [==============================] - 0s 2ms/step - loss: 0.0365 - mae: 0.1433 - val_loss: 0.1278 - val_mae: 0.2631\n",
      "Epoch 68/200\n",
      "32/32 [==============================] - 0s 2ms/step - loss: 0.0409 - mae: 0.1479 - val_loss: 0.1345 - val_mae: 0.2696\n",
      "Epoch 69/200\n",
      "32/32 [==============================] - 0s 2ms/step - loss: 0.0363 - mae: 0.1400 - val_loss: 0.1150 - val_mae: 0.2499\n",
      "Epoch 70/200\n",
      "32/32 [==============================] - 0s 2ms/step - loss: 0.0283 - mae: 0.1277 - val_loss: 0.1355 - val_mae: 0.2600\n",
      "Epoch 71/200\n",
      "32/32 [==============================] - 0s 2ms/step - loss: 0.0330 - mae: 0.1326 - val_loss: 0.1369 - val_mae: 0.2757\n",
      "Epoch 72/200\n",
      "32/32 [==============================] - 0s 2ms/step - loss: 0.0522 - mae: 0.1583 - val_loss: 0.1314 - val_mae: 0.2706\n",
      "Epoch 73/200\n",
      "32/32 [==============================] - 0s 2ms/step - loss: 0.0259 - mae: 0.1231 - val_loss: 0.1351 - val_mae: 0.2650\n",
      "Epoch 74/200\n",
      "32/32 [==============================] - 0s 2ms/step - loss: 0.0318 - mae: 0.1320 - val_loss: 0.1185 - val_mae: 0.2474\n",
      "Epoch 75/200\n",
      "32/32 [==============================] - 0s 2ms/step - loss: 0.0301 - mae: 0.1207 - val_loss: 0.1394 - val_mae: 0.2761\n",
      "Epoch 76/200\n",
      "32/32 [==============================] - 0s 2ms/step - loss: 0.0357 - mae: 0.1356 - val_loss: 0.1203 - val_mae: 0.2572\n",
      "Epoch 77/200\n",
      "32/32 [==============================] - 0s 2ms/step - loss: 0.0281 - mae: 0.1221 - val_loss: 0.1286 - val_mae: 0.2594\n",
      "Epoch 78/200\n",
      "32/32 [==============================] - 0s 3ms/step - loss: 0.0350 - mae: 0.1279 - val_loss: 0.1265 - val_mae: 0.2625\n",
      "Epoch 79/200\n",
      "32/32 [==============================] - 0s 2ms/step - loss: 0.0318 - mae: 0.1285 - val_loss: 0.1190 - val_mae: 0.2499\n",
      "Epoch 80/200\n",
      "32/32 [==============================] - 0s 2ms/step - loss: 0.0316 - mae: 0.1196 - val_loss: 0.1473 - val_mae: 0.2731\n",
      "Epoch 81/200\n",
      "32/32 [==============================] - 0s 2ms/step - loss: 0.0315 - mae: 0.1251 - val_loss: 0.1323 - val_mae: 0.2609\n",
      "Epoch 82/200\n",
      "32/32 [==============================] - 0s 2ms/step - loss: 0.0280 - mae: 0.1210 - val_loss: 0.1234 - val_mae: 0.2510\n",
      "Epoch 83/200\n",
      "32/32 [==============================] - 0s 2ms/step - loss: 0.0254 - mae: 0.1169 - val_loss: 0.1337 - val_mae: 0.2633\n",
      "Epoch 84/200\n",
      "32/32 [==============================] - 0s 2ms/step - loss: 0.0231 - mae: 0.1100 - val_loss: 0.1385 - val_mae: 0.2730\n",
      "Epoch 85/200\n",
      "32/32 [==============================] - 0s 2ms/step - loss: 0.0281 - mae: 0.1236 - val_loss: 0.1399 - val_mae: 0.2672\n",
      "Epoch 86/200\n",
      "32/32 [==============================] - 0s 2ms/step - loss: 0.0291 - mae: 0.1276 - val_loss: 0.1274 - val_mae: 0.2516\n",
      "Epoch 87/200\n",
      "32/32 [==============================] - 0s 2ms/step - loss: 0.0332 - mae: 0.1254 - val_loss: 0.1427 - val_mae: 0.2733\n",
      "Epoch 88/200\n",
      "32/32 [==============================] - 0s 2ms/step - loss: 0.0249 - mae: 0.1176 - val_loss: 0.1238 - val_mae: 0.2555\n",
      "Epoch 89/200\n",
      "32/32 [==============================] - 0s 2ms/step - loss: 0.0231 - mae: 0.1090 - val_loss: 0.1318 - val_mae: 0.2504\n",
      "Epoch 90/200\n",
      "32/32 [==============================] - 0s 2ms/step - loss: 0.0393 - mae: 0.1316 - val_loss: 0.1197 - val_mae: 0.2500\n",
      "Epoch 91/200\n",
      "32/32 [==============================] - 0s 2ms/step - loss: 0.0288 - mae: 0.1209 - val_loss: 0.1201 - val_mae: 0.2529\n",
      "Epoch 92/200\n",
      "32/32 [==============================] - 0s 2ms/step - loss: 0.0325 - mae: 0.1278 - val_loss: 0.1248 - val_mae: 0.2477\n",
      "Epoch 93/200\n",
      "32/32 [==============================] - 0s 2ms/step - loss: 0.0268 - mae: 0.1152 - val_loss: 0.1345 - val_mae: 0.2753\n",
      "Epoch 94/200\n",
      "32/32 [==============================] - 0s 2ms/step - loss: 0.0245 - mae: 0.1144 - val_loss: 0.1163 - val_mae: 0.2432\n",
      "Epoch 95/200\n",
      "32/32 [==============================] - 0s 2ms/step - loss: 0.0288 - mae: 0.1174 - val_loss: 0.1214 - val_mae: 0.2515\n",
      "Epoch 96/200\n",
      "32/32 [==============================] - 0s 2ms/step - loss: 0.0282 - mae: 0.1192 - val_loss: 0.1227 - val_mae: 0.2467\n",
      "Epoch 97/200\n",
      "32/32 [==============================] - 0s 2ms/step - loss: 0.0201 - mae: 0.1039 - val_loss: 0.1281 - val_mae: 0.2582\n",
      "Epoch 98/200\n",
      "32/32 [==============================] - 0s 2ms/step - loss: 0.0266 - mae: 0.1172 - val_loss: 0.1231 - val_mae: 0.2483\n",
      "Epoch 99/200\n",
      "32/32 [==============================] - 0s 2ms/step - loss: 0.0313 - mae: 0.1242 - val_loss: 0.1252 - val_mae: 0.2511\n",
      "Epoch 100/200\n",
      "32/32 [==============================] - 0s 2ms/step - loss: 0.0265 - mae: 0.1164 - val_loss: 0.1728 - val_mae: 0.2956\n",
      "Epoch 101/200\n",
      "32/32 [==============================] - 0s 2ms/step - loss: 0.0371 - mae: 0.1267 - val_loss: 0.1332 - val_mae: 0.2588\n",
      "Epoch 102/200\n",
      "32/32 [==============================] - 0s 2ms/step - loss: 0.0243 - mae: 0.1136 - val_loss: 0.1329 - val_mae: 0.2577\n",
      "Epoch 103/200\n",
      "32/32 [==============================] - 0s 2ms/step - loss: 0.0260 - mae: 0.1147 - val_loss: 0.1287 - val_mae: 0.2598\n",
      "Epoch 104/200\n",
      "32/32 [==============================] - 0s 2ms/step - loss: 0.0311 - mae: 0.1187 - val_loss: 0.1409 - val_mae: 0.2696\n",
      "Epoch 105/200\n",
      "32/32 [==============================] - 0s 2ms/step - loss: 0.0230 - mae: 0.1059 - val_loss: 0.1256 - val_mae: 0.2545\n",
      "Epoch 106/200\n",
      "32/32 [==============================] - 0s 3ms/step - loss: 0.0220 - mae: 0.1064 - val_loss: 0.1854 - val_mae: 0.3315\n",
      "Epoch 107/200\n",
      "32/32 [==============================] - 0s 3ms/step - loss: 0.0328 - mae: 0.1339 - val_loss: 0.1382 - val_mae: 0.2703\n",
      "Epoch 108/200\n",
      "32/32 [==============================] - 0s 2ms/step - loss: 0.0255 - mae: 0.1112 - val_loss: 0.1373 - val_mae: 0.2860\n",
      "Epoch 109/200\n",
      "32/32 [==============================] - 0s 2ms/step - loss: 0.0252 - mae: 0.1179 - val_loss: 0.1360 - val_mae: 0.2604\n",
      "Epoch 110/200\n",
      "32/32 [==============================] - 0s 2ms/step - loss: 0.0259 - mae: 0.1154 - val_loss: 0.1550 - val_mae: 0.2917\n",
      "Epoch 111/200\n",
      "32/32 [==============================] - 0s 2ms/step - loss: 0.0314 - mae: 0.1265 - val_loss: 0.1246 - val_mae: 0.2538\n",
      "Epoch 112/200\n",
      "32/32 [==============================] - 0s 3ms/step - loss: 0.0238 - mae: 0.1086 - val_loss: 0.1225 - val_mae: 0.2527\n",
      "Epoch 113/200\n",
      "32/32 [==============================] - 0s 3ms/step - loss: 0.0301 - mae: 0.1221 - val_loss: 0.1377 - val_mae: 0.2662\n",
      "Epoch 114/200\n",
      "32/32 [==============================] - 0s 3ms/step - loss: 0.0312 - mae: 0.1193 - val_loss: 0.1372 - val_mae: 0.2544\n",
      "Epoch 115/200\n",
      "32/32 [==============================] - 0s 3ms/step - loss: 0.0327 - mae: 0.1279 - val_loss: 0.1249 - val_mae: 0.2606\n",
      "Epoch 116/200\n",
      "32/32 [==============================] - 0s 2ms/step - loss: 0.0251 - mae: 0.1061 - val_loss: 0.1953 - val_mae: 0.3166\n",
      "Epoch 117/200\n",
      "32/32 [==============================] - 0s 2ms/step - loss: 0.0341 - mae: 0.1161 - val_loss: 0.1355 - val_mae: 0.2742\n",
      "Epoch 118/200\n",
      "32/32 [==============================] - 0s 2ms/step - loss: 0.0284 - mae: 0.1152 - val_loss: 0.1476 - val_mae: 0.2720\n",
      "Epoch 119/200\n",
      "32/32 [==============================] - 0s 2ms/step - loss: 0.0219 - mae: 0.1041 - val_loss: 0.1225 - val_mae: 0.2422\n",
      "Epoch 120/200\n",
      "32/32 [==============================] - 0s 2ms/step - loss: 0.0214 - mae: 0.1076 - val_loss: 0.1344 - val_mae: 0.2612\n",
      "Epoch 121/200\n",
      "32/32 [==============================] - 0s 3ms/step - loss: 0.0283 - mae: 0.1111 - val_loss: 0.1254 - val_mae: 0.2646\n",
      "Epoch 122/200\n",
      "32/32 [==============================] - 0s 3ms/step - loss: 0.0245 - mae: 0.1088 - val_loss: 0.1192 - val_mae: 0.2418\n",
      "Epoch 123/200\n",
      "32/32 [==============================] - 0s 3ms/step - loss: 0.0206 - mae: 0.1001 - val_loss: 0.1249 - val_mae: 0.2532\n",
      "Epoch 124/200\n",
      "32/32 [==============================] - 0s 3ms/step - loss: 0.0248 - mae: 0.1087 - val_loss: 0.1257 - val_mae: 0.2514\n"
     ]
    },
    {
     "name": "stdout",
     "output_type": "stream",
     "text": [
      "Epoch 125/200\n",
      "32/32 [==============================] - 0s 3ms/step - loss: 0.0230 - mae: 0.1055 - val_loss: 0.1156 - val_mae: 0.2408\n",
      "Epoch 126/200\n",
      "32/32 [==============================] - 0s 3ms/step - loss: 0.0269 - mae: 0.1049 - val_loss: 0.1507 - val_mae: 0.2874\n",
      "Epoch 127/200\n",
      "32/32 [==============================] - 0s 2ms/step - loss: 0.0275 - mae: 0.1148 - val_loss: 0.1215 - val_mae: 0.2463\n",
      "Epoch 128/200\n",
      "32/32 [==============================] - 0s 2ms/step - loss: 0.0225 - mae: 0.1077 - val_loss: 0.1214 - val_mae: 0.2384\n",
      "Epoch 129/200\n",
      "32/32 [==============================] - 0s 2ms/step - loss: 0.0238 - mae: 0.1072 - val_loss: 0.1217 - val_mae: 0.2447\n",
      "Epoch 130/200\n",
      "32/32 [==============================] - 0s 2ms/step - loss: 0.0269 - mae: 0.1077 - val_loss: 0.1228 - val_mae: 0.2461\n",
      "Epoch 131/200\n",
      "32/32 [==============================] - 0s 2ms/step - loss: 0.0254 - mae: 0.1047 - val_loss: 0.1163 - val_mae: 0.2385\n",
      "Epoch 132/200\n",
      "32/32 [==============================] - 0s 3ms/step - loss: 0.0212 - mae: 0.0972 - val_loss: 0.1279 - val_mae: 0.2389\n",
      "Epoch 133/200\n",
      "32/32 [==============================] - 0s 3ms/step - loss: 0.0251 - mae: 0.1025 - val_loss: 0.1290 - val_mae: 0.2582\n",
      "Epoch 134/200\n",
      "32/32 [==============================] - 0s 2ms/step - loss: 0.0239 - mae: 0.1062 - val_loss: 0.1312 - val_mae: 0.2660\n",
      "Epoch 135/200\n",
      "32/32 [==============================] - 0s 3ms/step - loss: 0.0242 - mae: 0.1060 - val_loss: 0.1198 - val_mae: 0.2432\n",
      "Epoch 136/200\n",
      "32/32 [==============================] - 0s 3ms/step - loss: 0.0241 - mae: 0.1039 - val_loss: 0.1270 - val_mae: 0.2609\n",
      "Epoch 137/200\n",
      "32/32 [==============================] - 0s 2ms/step - loss: 0.0234 - mae: 0.1051 - val_loss: 0.1247 - val_mae: 0.2493\n",
      "Epoch 138/200\n",
      "32/32 [==============================] - 0s 2ms/step - loss: 0.0227 - mae: 0.1043 - val_loss: 0.1233 - val_mae: 0.2409\n",
      "Epoch 139/200\n",
      "32/32 [==============================] - 0s 2ms/step - loss: 0.0237 - mae: 0.1024 - val_loss: 0.1231 - val_mae: 0.2421\n",
      "Epoch 140/200\n",
      "32/32 [==============================] - 0s 2ms/step - loss: 0.0270 - mae: 0.1142 - val_loss: 0.1220 - val_mae: 0.2497\n",
      "Epoch 141/200\n",
      "32/32 [==============================] - 0s 2ms/step - loss: 0.0238 - mae: 0.1066 - val_loss: 0.1211 - val_mae: 0.2350\n",
      "Epoch 142/200\n",
      "32/32 [==============================] - 0s 2ms/step - loss: 0.0189 - mae: 0.0947 - val_loss: 0.1204 - val_mae: 0.2434\n",
      "Epoch 143/200\n",
      "32/32 [==============================] - 0s 3ms/step - loss: 0.0237 - mae: 0.0960 - val_loss: 0.1207 - val_mae: 0.2370\n",
      "Epoch 144/200\n",
      "32/32 [==============================] - 0s 2ms/step - loss: 0.0190 - mae: 0.0971 - val_loss: 0.1311 - val_mae: 0.2492\n",
      "Epoch 145/200\n",
      "32/32 [==============================] - 0s 2ms/step - loss: 0.0216 - mae: 0.0999 - val_loss: 0.1202 - val_mae: 0.2372\n",
      "Epoch 146/200\n",
      "32/32 [==============================] - 0s 2ms/step - loss: 0.0198 - mae: 0.0925 - val_loss: 0.1247 - val_mae: 0.2425\n",
      "Epoch 147/200\n",
      "32/32 [==============================] - 0s 2ms/step - loss: 0.0248 - mae: 0.1039 - val_loss: 0.1208 - val_mae: 0.2427\n",
      "Epoch 148/200\n",
      "32/32 [==============================] - 0s 2ms/step - loss: 0.0172 - mae: 0.0918 - val_loss: 0.1371 - val_mae: 0.2669\n",
      "Epoch 149/200\n",
      "32/32 [==============================] - 0s 2ms/step - loss: 0.0271 - mae: 0.1106 - val_loss: 0.1265 - val_mae: 0.2524\n",
      "Epoch 150/200\n",
      "32/32 [==============================] - 0s 2ms/step - loss: 0.0236 - mae: 0.1057 - val_loss: 0.1238 - val_mae: 0.2467\n",
      "Epoch 151/200\n",
      "32/32 [==============================] - 0s 3ms/step - loss: 0.0196 - mae: 0.0962 - val_loss: 0.1189 - val_mae: 0.2405\n",
      "Epoch 152/200\n",
      "32/32 [==============================] - 0s 3ms/step - loss: 0.0201 - mae: 0.0969 - val_loss: 0.1172 - val_mae: 0.2511\n",
      "Epoch 153/200\n",
      "32/32 [==============================] - 0s 3ms/step - loss: 0.0157 - mae: 0.0869 - val_loss: 0.1233 - val_mae: 0.2466\n",
      "Epoch 154/200\n",
      "32/32 [==============================] - 0s 2ms/step - loss: 0.0247 - mae: 0.1019 - val_loss: 0.1254 - val_mae: 0.2539\n",
      "Epoch 155/200\n",
      "32/32 [==============================] - 0s 2ms/step - loss: 0.0248 - mae: 0.0984 - val_loss: 0.1412 - val_mae: 0.2728\n",
      "Epoch 156/200\n",
      "32/32 [==============================] - 0s 2ms/step - loss: 0.0194 - mae: 0.0943 - val_loss: 0.1480 - val_mae: 0.2651\n",
      "Epoch 157/200\n",
      "32/32 [==============================] - 0s 2ms/step - loss: 0.0225 - mae: 0.1007 - val_loss: 0.1285 - val_mae: 0.2491\n",
      "Epoch 158/200\n",
      "32/32 [==============================] - 0s 2ms/step - loss: 0.0238 - mae: 0.1045 - val_loss: 0.1276 - val_mae: 0.2549\n",
      "Epoch 159/200\n",
      "32/32 [==============================] - 0s 2ms/step - loss: 0.0189 - mae: 0.0978 - val_loss: 0.1158 - val_mae: 0.2363\n",
      "Epoch 160/200\n",
      "32/32 [==============================] - 0s 2ms/step - loss: 0.0201 - mae: 0.0938 - val_loss: 0.1291 - val_mae: 0.2550\n",
      "Epoch 161/200\n",
      "32/32 [==============================] - 0s 3ms/step - loss: 0.0214 - mae: 0.1032 - val_loss: 0.1256 - val_mae: 0.2543\n",
      "Epoch 162/200\n",
      "32/32 [==============================] - 0s 3ms/step - loss: 0.0225 - mae: 0.1037 - val_loss: 0.1257 - val_mae: 0.2392\n",
      "Epoch 163/200\n",
      "32/32 [==============================] - 0s 3ms/step - loss: 0.0187 - mae: 0.0960 - val_loss: 0.1289 - val_mae: 0.2691\n",
      "Epoch 164/200\n",
      "32/32 [==============================] - 0s 2ms/step - loss: 0.0227 - mae: 0.1018 - val_loss: 0.1174 - val_mae: 0.2427\n",
      "Epoch 165/200\n",
      "32/32 [==============================] - 0s 2ms/step - loss: 0.0184 - mae: 0.0932 - val_loss: 0.1397 - val_mae: 0.2579\n",
      "Epoch 166/200\n",
      "32/32 [==============================] - 0s 3ms/step - loss: 0.0199 - mae: 0.0990 - val_loss: 0.1214 - val_mae: 0.2517\n",
      "Epoch 167/200\n",
      "32/32 [==============================] - 0s 3ms/step - loss: 0.0201 - mae: 0.0981 - val_loss: 0.1166 - val_mae: 0.2466\n",
      "Epoch 168/200\n",
      "32/32 [==============================] - 0s 3ms/step - loss: 0.0210 - mae: 0.0986 - val_loss: 0.1368 - val_mae: 0.2560\n",
      "Epoch 169/200\n",
      "32/32 [==============================] - 0s 4ms/step - loss: 0.0218 - mae: 0.0974 - val_loss: 0.1222 - val_mae: 0.2493\n",
      "Epoch 170/200\n",
      "32/32 [==============================] - 0s 4ms/step - loss: 0.0162 - mae: 0.0868 - val_loss: 0.1199 - val_mae: 0.2349\n",
      "Epoch 171/200\n",
      "32/32 [==============================] - 0s 3ms/step - loss: 0.0168 - mae: 0.0899 - val_loss: 0.1209 - val_mae: 0.2464\n",
      "Epoch 172/200\n",
      "32/32 [==============================] - 0s 3ms/step - loss: 0.0228 - mae: 0.0974 - val_loss: 0.1255 - val_mae: 0.2406\n",
      "Epoch 173/200\n",
      "32/32 [==============================] - 0s 3ms/step - loss: 0.0147 - mae: 0.0814 - val_loss: 0.1413 - val_mae: 0.2833\n",
      "Epoch 174/200\n",
      "32/32 [==============================] - 0s 4ms/step - loss: 0.0253 - mae: 0.1028 - val_loss: 0.1313 - val_mae: 0.2540\n",
      "Epoch 175/200\n",
      "32/32 [==============================] - 0s 4ms/step - loss: 0.0141 - mae: 0.0795 - val_loss: 0.1309 - val_mae: 0.2634\n",
      "Epoch 176/200\n",
      "32/32 [==============================] - 0s 4ms/step - loss: 0.0198 - mae: 0.0945 - val_loss: 0.1204 - val_mae: 0.2420\n",
      "Epoch 177/200\n",
      "32/32 [==============================] - 0s 4ms/step - loss: 0.0195 - mae: 0.0954 - val_loss: 0.1230 - val_mae: 0.2518\n",
      "Epoch 178/200\n",
      "32/32 [==============================] - 0s 5ms/step - loss: 0.0239 - mae: 0.1001 - val_loss: 0.1247 - val_mae: 0.2431\n",
      "Epoch 179/200\n",
      "32/32 [==============================] - 0s 4ms/step - loss: 0.0173 - mae: 0.0909 - val_loss: 0.1190 - val_mae: 0.2381\n",
      "Epoch 180/200\n",
      "32/32 [==============================] - 0s 4ms/step - loss: 0.0193 - mae: 0.0929 - val_loss: 0.1234 - val_mae: 0.2439\n",
      "Epoch 181/200\n",
      "32/32 [==============================] - 0s 3ms/step - loss: 0.0167 - mae: 0.0861 - val_loss: 0.1146 - val_mae: 0.2385\n",
      "Epoch 182/200\n",
      "32/32 [==============================] - 0s 3ms/step - loss: 0.0208 - mae: 0.0913 - val_loss: 0.1205 - val_mae: 0.2453\n",
      "Epoch 183/200\n",
      "32/32 [==============================] - 0s 3ms/step - loss: 0.0193 - mae: 0.0938 - val_loss: 0.1282 - val_mae: 0.2537\n",
      "Epoch 184/200\n",
      "32/32 [==============================] - 0s 3ms/step - loss: 0.0184 - mae: 0.0917 - val_loss: 0.1273 - val_mae: 0.2613\n",
      "Epoch 185/200\n",
      "32/32 [==============================] - 0s 3ms/step - loss: 0.0199 - mae: 0.0910 - val_loss: 0.1460 - val_mae: 0.2860\n",
      "Epoch 186/200\n"
     ]
    },
    {
     "name": "stdout",
     "output_type": "stream",
     "text": [
      "32/32 [==============================] - 0s 3ms/step - loss: 0.0256 - mae: 0.0984 - val_loss: 0.1207 - val_mae: 0.2410\n",
      "Epoch 187/200\n",
      "32/32 [==============================] - 0s 3ms/step - loss: 0.0292 - mae: 0.1042 - val_loss: 0.1108 - val_mae: 0.2397\n",
      "Epoch 188/200\n",
      "32/32 [==============================] - 0s 3ms/step - loss: 0.0176 - mae: 0.0965 - val_loss: 0.1196 - val_mae: 0.2415\n",
      "Epoch 189/200\n",
      "32/32 [==============================] - 0s 3ms/step - loss: 0.0208 - mae: 0.0931 - val_loss: 0.1294 - val_mae: 0.2522\n",
      "Epoch 190/200\n",
      "32/32 [==============================] - 0s 3ms/step - loss: 0.0186 - mae: 0.0914 - val_loss: 0.1173 - val_mae: 0.2459\n",
      "Epoch 191/200\n",
      "32/32 [==============================] - 0s 3ms/step - loss: 0.0173 - mae: 0.0870 - val_loss: 0.1207 - val_mae: 0.2481\n",
      "Epoch 192/200\n",
      "32/32 [==============================] - 0s 3ms/step - loss: 0.0185 - mae: 0.0886 - val_loss: 0.1298 - val_mae: 0.2429\n",
      "Epoch 193/200\n",
      "32/32 [==============================] - 0s 3ms/step - loss: 0.0168 - mae: 0.0866 - val_loss: 0.1218 - val_mae: 0.2416\n",
      "Epoch 194/200\n",
      "32/32 [==============================] - 0s 3ms/step - loss: 0.0171 - mae: 0.0908 - val_loss: 0.1183 - val_mae: 0.2400\n",
      "Epoch 195/200\n",
      "32/32 [==============================] - 0s 3ms/step - loss: 0.0139 - mae: 0.0796 - val_loss: 0.1270 - val_mae: 0.2596\n",
      "Epoch 196/200\n",
      "32/32 [==============================] - 0s 3ms/step - loss: 0.0152 - mae: 0.0873 - val_loss: 0.1216 - val_mae: 0.2401\n",
      "Epoch 197/200\n",
      "32/32 [==============================] - 0s 3ms/step - loss: 0.0142 - mae: 0.0796 - val_loss: 0.1225 - val_mae: 0.2403\n",
      "Epoch 198/200\n",
      "32/32 [==============================] - 0s 3ms/step - loss: 0.0211 - mae: 0.0950 - val_loss: 0.1202 - val_mae: 0.2434\n",
      "Epoch 199/200\n",
      "32/32 [==============================] - 0s 4ms/step - loss: 0.0180 - mae: 0.0848 - val_loss: 0.1178 - val_mae: 0.2379\n",
      "Epoch 200/200\n",
      "32/32 [==============================] - 0s 3ms/step - loss: 0.0170 - mae: 0.0855 - val_loss: 0.1258 - val_mae: 0.2480\n"
     ]
    }
   ],
   "source": [
    "history = network.fit(X_train,Y_train,epochs=200,validation_split=0.3, batch_size = 16)"
   ]
  },
  {
   "cell_type": "code",
   "execution_count": 57,
   "metadata": {},
   "outputs": [
    {
     "data": {
      "text/plain": [
       "dict_keys(['loss', 'mae', 'val_loss', 'val_mae'])"
      ]
     },
     "execution_count": 57,
     "metadata": {},
     "output_type": "execute_result"
    }
   ],
   "source": [
    "history.history.keys()"
   ]
  },
  {
   "cell_type": "code",
   "execution_count": 58,
   "metadata": {
    "colab": {
     "base_uri": "https://localhost:8080/"
    },
    "id": "Dke-NeOQtJ7Z",
    "outputId": "c747742c-a35c-489d-910c-49aec973df25"
   },
   "outputs": [
    {
     "name": "stdout",
     "output_type": "stream",
     "text": [
      "10/10 [==============================] - 0s 2ms/step - loss: 0.1325 - mae: 0.2373\n"
     ]
    }
   ],
   "source": [
    "loss,mae=network.evaluate(X_test,Y_test)"
   ]
  },
  {
   "cell_type": "code",
   "execution_count": 59,
   "metadata": {
    "colab": {
     "base_uri": "https://localhost:8080/"
    },
    "id": "CtycpTWetRiZ",
    "outputId": "c3c53923-6128-448f-a0ac-68b30a6eabaa"
   },
   "outputs": [],
   "source": [
    "val_mae = history.history['val_mae']\n",
    "val_loss = history.history['val_loss']"
   ]
  },
  {
   "cell_type": "code",
   "execution_count": 60,
   "metadata": {},
   "outputs": [
    {
     "data": {
      "image/png": "[encoded data removed]",
      "text/plain": [
       "<Figure size 432x288 with 1 Axes>"
      ]
     },
     "metadata": {
      "needs_background": "light"
     },
     "output_type": "display_data"
    }
   ],
   "source": [
    "import matplotlib.pyplot as plt \n",
    "history_dict = history.history\n",
    "loss_values = history_dict['loss']\n",
    "val_loss_values = history_dict['val_loss']\n",
    "epochs = range(200)\n",
    "plt.plot(epochs, loss_values, 'bo', label='Training loss')\n",
    "plt.plot(epochs, val_loss_values, 'b', label='Validation loss')\n",
    "plt.title('Training and validation loss')\n",
    "plt.xlabel('Epochs')\n",
    "plt.ylabel('Loss')\n",
    "plt.legend()\n",
    "plt.show()"
   ]
  },
  {
   "cell_type": "code",
   "execution_count": 61,
   "metadata": {},
   "outputs": [
    {
     "data": {
      "image/png": "[encoded data removed]",
      "text/plain": [
       "<Figure size 432x288 with 1 Axes>"
      ]
     },
     "metadata": {
      "needs_background": "light"
     },
     "output_type": "display_data"
    }
   ],
   "source": [
    "import matplotlib.pyplot as plt \n",
    "acc_values = history_dict['mae']\n",
    "val_acc_values = history_dict['val_mae']\n",
    "plt.plot(epochs, acc_values, 'bo', label='Training mae')\n",
    "plt.plot(epochs, val_acc_values, 'b', label='Validation mae')\n",
    "plt.title('Training and validation accuracy')\n",
    "plt.xlabel('Epochs')\n",
    "plt.ylabel('mae')\n",
    "plt.legend()\n",
    "plt.show()"
   ]
  },
  {
   "cell_type": "code",
   "execution_count": 62,
   "metadata": {
    "id": "AiZJuEX1tXIa"
   },
   "outputs": [],
   "source": [
    "y_pred = network.predict(X_test)"
   ]
  },
  {
   "cell_type": "code",
   "execution_count": 63,
   "metadata": {},
   "outputs": [],
   "source": [
    "def denorm(x):\n",
    "    return (x * Y_std) + Y_mean\n",
    "    "
   ]
  },
  {
   "cell_type": "code",
   "execution_count": 64,
   "metadata": {},
   "outputs": [],
   "source": [
    "y_pred = denorm(y_pred)"
   ]
  },
  {
   "cell_type": "code",
   "execution_count": 65,
   "metadata": {},
   "outputs": [],
   "source": [
    "y_true = denorm(Y_test)"
   ]
  },
  {
   "cell_type": "code",
   "execution_count": 66,
   "metadata": {},
   "outputs": [],
   "source": [
    "y_pred = y_pred.flatten()"
   ]
  },
  {
   "cell_type": "code",
   "execution_count": 67,
   "metadata": {},
   "outputs": [
    {
     "data": {
      "text/plain": [
       "(309,)"
      ]
     },
     "execution_count": 67,
     "metadata": {},
     "output_type": "execute_result"
    }
   ],
   "source": [
    "y_pred.shape"
   ]
  },
  {
   "cell_type": "code",
   "execution_count": 68,
   "metadata": {},
   "outputs": [
    {
     "data": {
      "text/plain": [
       "(309,)"
      ]
     },
     "execution_count": 68,
     "metadata": {},
     "output_type": "execute_result"
    }
   ],
   "source": [
    "y_true.shape"
   ]
  },
  {
   "cell_type": "code",
   "execution_count": 69,
   "metadata": {},
   "outputs": [
    {
     "data": {
      "text/plain": [
       "(0.0, 100.0)"
      ]
     },
     "execution_count": 69,
     "metadata": {},
     "output_type": "execute_result"
    },
    {
     "data": {
      "image/png": "[encoded data removed]",
      "text/plain": [
       "<Figure size 432x288 with 1 Axes>"
      ]
     },
     "metadata": {
      "needs_background": "light"
     },
     "output_type": "display_data"
    }
   ],
   "source": [
    "import numpy as np\n",
    "import matplotlib.pyplot as plt\n",
    "coef = np.polyfit(y_true,y_pred,1)\n",
    "poly1d_fn = np.poly1d(coef) \n",
    "# poly1d_fn is now a function which takes in x and returns an estimate for y\n",
    "plt.plot(y_true,y_pred, 'yo', y_true, poly1d_fn(y_true), '--k')\n",
    "plt.xlim(0, 100)\n",
    "plt.ylim(0, 100)"
   ]
  },
  {
   "cell_type": "code",
   "execution_count": null,
   "metadata": {},
   "outputs": [],
   "source": []
  }
 ],
 "metadata": {
  "accelerator": "TPU",
  "colab": {
   "collapsed_sections": [],
   "name": "Concrete.ipynb",
   "provenance": [],
   "toc_visible": true
  },
  "kernelspec": {
   "display_name": "Python 3",
   "language": "python",
   "name": "python3"
  },
  "language_info": {
   "codemirror_mode": {
    "name": "ipython",
    "version": 3
   },
   "file_extension": ".py",
   "mimetype": "text/x-python",
   "name": "python",
   "nbconvert_exporter": "python",
   "pygments_lexer": "ipython3",
   "version": "3.9.2"
  }
 },
 "nbformat": 4,
 "nbformat_minor": 1
}

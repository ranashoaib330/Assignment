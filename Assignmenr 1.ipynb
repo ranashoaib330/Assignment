
Assignment For Numpy
Difficulty Level Beginner

Import the numpy package under the name np
In [2]:
import numpy as np
Create a null vector of size 10
In [3]:
vec = np.zeros(10)
vec
Out[3]:
array([0., 0., 0., 0., 0., 0., 0., 0., 0., 0.])
Create a vector with values ranging from 10 to 49
In [4]:
vec2 = np.arange(10, 49)
vec2
Out[4]:
array([10, 11, 12, 13, 14, 15, 16, 17, 18, 19, 20, 21, 22, 23, 24, 25, 26,
       27, 28, 29, 30, 31, 32, 33, 34, 35, 36, 37, 38, 39, 40, 41, 42, 43,
       44, 45, 46, 47, 48])
Find the shape of previous array in question 3
In [5]:
vec2.shape
Out[5]:
(39,)
Print the type of the previous array in question 3
In [6]:
vec2.dtype
Out[6]:
dtype('int64')
Print the numpy version and the configuration
In [7]:
print(np.__version__, np.show_config())
blas_mkl_info:
    libraries = ['mkl_rt', 'pthread']
    library_dirs = ['/home/shaharyar/anaconda3/lib']
    define_macros = [('SCIPY_MKL_H', None), ('HAVE_CBLAS', None)]
    include_dirs = ['/home/shaharyar/anaconda3/include']
blas_opt_info:
    libraries = ['mkl_rt', 'pthread']
    library_dirs = ['/home/shaharyar/anaconda3/lib']
    define_macros = [('SCIPY_MKL_H', None), ('HAVE_CBLAS', None)]
    include_dirs = ['/home/shaharyar/anaconda3/include']
lapack_mkl_info:
    libraries = ['mkl_rt', 'pthread']
    library_dirs = ['/home/shaharyar/anaconda3/lib']
    define_macros = [('SCIPY_MKL_H', None), ('HAVE_CBLAS', None)]
    include_dirs = ['/home/shaharyar/anaconda3/include']
lapack_opt_info:
    libraries = ['mkl_rt', 'pthread']
    library_dirs = ['/home/shaharyar/anaconda3/lib']
    define_macros = [('SCIPY_MKL_H', None), ('HAVE_CBLAS', None)]
    include_dirs = ['/home/shaharyar/anaconda3/include']
1.19.2 None
Print the dimension of the array in question 3
In [8]:
vec2.ndim
Out[8]:
1
Create a boolean array with all the True values
In [9]:
vec3 = np.array(range(1, 10), dtype="bool")
vec3
Out[9]:
array([ True,  True,  True,  True,  True,  True,  True,  True,  True])
Create a two dimensional array
In [10]:
vec4 = np.zeros((2, 2))
vec4
Out[10]:
array([[0., 0.],
       [0., 0.]])
Create a three dimensional array
In [11]:
vec4 = np.zeros((3, 3, 3))
vec4
Out[11]:
array([[[0., 0., 0.],
        [0., 0., 0.],
        [0., 0., 0.]],

       [[0., 0., 0.],
        [0., 0., 0.],
        [0., 0., 0.]],

       [[0., 0., 0.],
        [0., 0., 0.],
        [0., 0., 0.]]])
Difficulty Level Easy

Reverse a vector (first element becomes last)
In [12]:
# Changing variable names as they are getting too boring!
reverse_vector = np.array(range(1, 10))
print("Original: ", reverse_vector)

reverse_vector[0], reverse_vector[len(reverse_vector) - 1] = reverse_vector[len(reverse_vector) - 1], reverse_vector[0]

print("Modified: ", reverse_vector)
Original:  [1 2 3 4 5 6 7 8 9]
Modified:  [9 2 3 4 5 6 7 8 1]
Create a null vector of size 10 but the fifth value which is 1
In [13]:
null_vec  = np.zeros(10)
null_vec[5] = 1

null_vec
Out[13]:
array([0., 0., 0., 0., 0., 1., 0., 0., 0., 0.])
Create a 3x3 identity matrix
In [14]:
matrix = np.identity(3)

matrix
Out[14]:
array([[1., 0., 0.],
       [0., 1., 0.],
       [0., 0., 1.]])
arr = np.array([1, 2, 3, 4, 5])
Convert the data type of the given array from int to float

In [15]:
arr  = np.array([1, 2, 3, 4, 5])
arr = arr.astype(np.float32)
arr
Out[15]:
array([1., 2., 3., 4., 5.], dtype=float32)
arr1 = np.array([[1., 2., 3.],

            [4., 5., 6.]])  

arr2 = np.array([[0., 4., 1.],

           [7., 2., 12.]])
Multiply arr1 with arr2

In [16]:
arr1 = np.array([[1., 2., 3.] ,[4., 5., 6.]])  
arr2 = np.array([[0., 4., 1.] ,[7., 2., 12.]])

np.multiply(arr1, arr2)
Out[16]:
array([[ 0.,  8.,  3.],
       [28., 10., 72.]])
arr1 = np.array([[1., 2., 3.],

            [4., 5., 6.]]) 

arr2 = np.array([[0., 4., 1.],

            [7., 2., 12.]])
Make an array by comparing both the arrays provided above

In [17]:
arr1 = np.array([[1., 2., 3.], [4., 5., 6.]])
arr2 = np.array([[0., 4., 1.], [7., 2., 12.]])


print("a > b") 
print(np.greater(arr1, arr2))
a > b
[[ True False  True]
 [False  True False]]
Extract all odd numbers from arr with values(0-9)
In [18]:
arr = np.arange(9)
filtered_array = filter(lambda val: val % 2 == 0, arr)
list(filtered_array)
Out[18]:
[0, 2, 4, 6, 8]
Replace all odd numbers to -1 from previous array
In [19]:
arr[arr % 2 == 0] = -1
arr
Out[19]:
array([-1,  1, -1,  3, -1,  5, -1,  7, -1])
arr = np.arange(10)
Replace the values of indexes 5,6,7 and 8 to 12

In [20]:
arr = np.arange(10)
arr[5] = arr[6] = arr[7] = arr[8] = 12
arr
Out[20]:
array([ 0,  1,  2,  3,  4, 12, 12, 12, 12,  9])
Create a 2d array with 1 on the border and 0 inside
In [21]:
arr = np.ones((8, 8))
arr[1:-1, 1:-1] = 0
arr
Out[21]:
array([[1., 1., 1., 1., 1., 1., 1., 1.],
       [1., 0., 0., 0., 0., 0., 0., 1.],
       [1., 0., 0., 0., 0., 0., 0., 1.],
       [1., 0., 0., 0., 0., 0., 0., 1.],
       [1., 0., 0., 0., 0., 0., 0., 1.],
       [1., 0., 0., 0., 0., 0., 0., 1.],
       [1., 0., 0., 0., 0., 0., 0., 1.],
       [1., 1., 1., 1., 1., 1., 1., 1.]])
Difficulty Level Medium

arr2d = np.array([[1, 2, 3],

            [4, 5, 6], 

            [7, 8, 9]])
Replace the value 5 to 12

In [22]:
arr2d = np.array([[1, 2, 3],

                    [4, 5, 6], 

                    [7, 8, 9]])

arr2d[1, 1] = 12
arr2d
Out[22]:
array([[ 1,  2,  3],
       [ 4, 12,  6],
       [ 7,  8,  9]])
arr3d = np.array([[[1, 2, 3], [4, 5, 6]], [[7, 8, 9], [10, 11, 12]]])
Convert all the values of 1st array to 64

In [23]:
arr3d = np.array([ [ [1, 2, 3], [4, 5, 6] ], [ [7, 8, 9], [10, 11, 12] ] ])

arr3d[0][:] = 64
arr3d[1][:] = 64

arr3d
Out[23]:
array([[[64, 64, 64],
        [64, 64, 64]],

       [[64, 64, 64],
        [64, 64, 64]]])
Make a 2-Dimensional array with values 0-9 and slice out the first 1st 1-D array from it
In [24]:
arr = np.arange(9).reshape(3, 3)
arr2 = arr[0] #TODO
arr2
Out[24]:
array([0, 1, 2])
Make a 2-Dimensional array with values 0-9 and slice out the 2nd value from 2nd 1-D array from it
In [25]:
arr = np.arange(9).reshape(3, 3)
val = arr[1][1] #TODO
val
Out[25]:
4
Make a 2-Dimensional array with values 0-9 and slice out the third column but only the first two rows
In [26]:
arr = np.arange(9).reshape(3, 3)
arr3 = arr[0:-1, -1]

arr3
Out[26]:
array([2, 5])
Create a 10x10 array with random values and find the minimum and maximum values
In [27]:
arr = np.arange(100).reshape(10, 10)
maxInColumns = np.amax(arr, axis=1)
val = max(maxInColumns)
val
Out[27]:
99
27. a = np.array([1,2,3,2,3,4,3,4,5,6]) b = np.array([7,2,10,2,7,4,9,4,9,8])
Find the common items between a and b

In [28]:
a = np.array([1,2,3,2,3,4,3,4,5,6]) 

b = np.array([7,2,10,2,7,4,9,4,9,8])

np.intersect1d(a, b)
Out[28]:
array([2, 4])
a = np.array([1,2,3,2,3,4,3,4,5,6]) b = np.array([7,2,10,2,7,4,9,4,9,8])
Find the positions where elements of a and b match

In [29]:
a = np.array([1,2,3,2,3,4,3,4,5,6])
b = np.array([7,2,10,2,7,4,9,4,9,8])

np.where(a == b)
Out[29]:
(array([1, 3, 5, 7]),)
names = np.array(['Bob', 'Joe', 'Will', 'Bob', 'Will', 'Joe', 'Joe']) data = np.random.randn(7, 4)
Find all the values from array data where the values from array names are not equal to Will

In [30]:
import random

name = np.array(['Bob', 'Joe', 'Will', 'Bob', 'Will', 'Joe', 'Joe'])  
# data = np.random.randn(7,4) # --> This gives floating point numbers
data = np.random.randint(7, size=random.randrange(1, 10))
print(data)
print(np.where(name[data] != "Will"))
[1 4]
(array([0]),)
names = np.array(['Bob', 'Joe', 'Will', 'Bob', 'Will', 'Joe', 'Joe']) data = np.random.randn(7, 4)
Find all the values from array data where the values from array names are not equal to Will and Joe

In [31]:
import random

name = np.array(['Bob', 'Joe', 'Will', 'Bob', 'Will', 'Joe', 'Joe'])  
# data = np.random.randn(7,4) # --> This gives floating point numbers
data = np.random.randint(7, size=random.randrange(1, 10))
print(data)
print(np.where((name[data] != "Joe") & (name[data] != "Will")))
[6 6]
(array([], dtype=int64),)
Difficulty Level Hard

Create a 2D array of shape 5x3 to contain decimal numbers between 1 and 15.
In [32]:
arr = np.random.uniform(low=1.0, high=15.0, size=(5,3))
arr
Out[32]:
array([[ 6.85328889,  3.55224929,  7.98073641],
       [ 2.34673161, 13.716323  ,  1.69433644],
       [11.93406723,  5.6220919 ,  6.35695774],
       [11.87461262, 12.26627013,  4.82931325],
       [14.77803832,  4.80483565,  7.22183809]])
Create an array of shape (2, 2, 4) with decimal numbers between 1 to 16.
In [33]:
arr_klo = np.random.uniform(low=1.0, high=16.0, size=(2,2,4))
Swap axes of the array you created in Question 32
In [34]:
np.swapaxes(arr_klo, 0, 1)
arr_klo
Out[34]:
array([[[12.3013993 ,  4.60772317,  3.53114738,  3.58120654],
        [15.29803399,  6.00399904, 13.74169714, 13.57679125]],

       [[11.59298229,  8.3495441 ,  9.37499197,  8.27189506],
        [10.62916477, 14.78845763, 14.42828495, 11.29451457]]])
Create an array of size 10, and find the square root of every element in the array, if the values less than 0.5, replace them with 0
In [35]:
import math

arr = np.arange(10)
print(arr)
new_arr = filter(lambda x: x if math.sqrt(x) > 0.5 else 0, arr)
np.asarray(list(new_arr))
[0 1 2 3 4 5 6 7 8 9]
Out[35]:
array([1, 2, 3, 4, 5, 6, 7, 8, 9])
Create two random arrays of range 12 and make an array with the maximum values between each element of the two arrays
In [36]:
arr1 = np.random.randint(12, size=random.randrange(0, 12))
arr2 = np.random.randint(12, size=random.randrange(0, 12))
print(arr1)
print(arr2)
np.where(arr1 == arr2)
[7 1 9 5 7 0 2 8 1]
[9]
Out[36]:
(array([2]),)
names = np.array(['Bob', 'Joe', 'Will', 'Bob', 'Will', 'Joe', 'Joe'])
Find the unique names and sort them out!

In [37]:
names = np.array(['Bob', 'Joe', 'Will', 'Bob', 'Will', 'Joe', 'Joe'])
np.unique(names) # --> returns sorted unique values
Out[37]:
array(['Bob', 'Joe', 'Will'], dtype='<U4')
a = np.array([1,2,3,4,5]) b = np.array([5,6,7,8,9])
From array a remove all items present in array b

In [38]:
a = np.array([1,2,3,4,5])
b = np.array([5,6,7,8,9])
val = np.intersect1d(a, b)

a = filter(lambda x: x if x not in val else None, a)
np.asarray(list(a))
Out[38]:
array([1, 2, 3, 4])
Following is the input NumPy array delete column two and insert following new column in its place.
sampleArray = numpy.array([[34,43,73],[82,22,12],[53,94,66]])

newColumn = numpy.array([[10,10,10]])

In [39]:
sampleArray = np.array([[34,43,73],[82,22,12],[53,94,66]]) 
sampleArray[:, 1] = 10
sampleArray
Out[39]:
array([[34, 10, 73],
       [82, 10, 12],
       [53, 10, 66]])
x = np.array([[1., 2., 3.], [4., 5., 6.]]) y = np.array([[6., 23.], [-1, 7], [8, 9]])
Find the dot product of the above two matrix

In [40]:
x = np.array([[1., 2., 3.], [4., 5., 6.]]) 
y = np.array([[6., 23.], [-1, 7], [8, 9]])

np.dot(x, y)
Out[40]:
array([[ 28.,  64.],
       [ 67., 181.]])
Generate a matrix of 20 random values and find its cumulative sum
In [63]:
matrix = np.random.randint(20, size=(random.randint(0, 5), random.randint(0, 5)))
np.cumsum(matrix)
Out[63]:
array([ 7, 15, 27, 27, 28, 42])